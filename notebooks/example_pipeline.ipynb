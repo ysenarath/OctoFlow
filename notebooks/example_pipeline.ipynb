{
 "cells": [
  {
   "cell_type": "code",
   "execution_count": 1,
   "id": "116d3ec1-b115-44f8-9915-03172f1e1eea",
   "metadata": {},
   "outputs": [],
   "source": [
    "%load_ext autoreload\n",
    "%autoreload 2"
   ]
  },
  {
   "cell_type": "code",
   "execution_count": 2,
   "id": "9ca2503e-d2a4-49b1-bbe2-d0448826d3a6",
   "metadata": {},
   "outputs": [],
   "source": [
    "from octoflow.pipeline import Pipeline, Task, task"
   ]
  },
  {
   "cell_type": "code",
   "execution_count": 3,
   "id": "cc00c4de-8be7-461c-a639-edc1d7d68312",
   "metadata": {},
   "outputs": [],
   "source": [
    "@task\n",
    "def print_hello(name: str):\n",
    "    print(f\"Hello {name}!\")"
   ]
  },
  {
   "cell_type": "code",
   "execution_count": 4,
   "id": "50ca9f3e-473c-43db-bed3-cc28537fbff3",
   "metadata": {},
   "outputs": [
    {
     "data": {
      "text/plain": [
       "{'@type': '__main__:print_hello.__octoflow__.FunctionTask', 'name': 'World!'}"
      ]
     },
     "execution_count": 4,
     "metadata": {},
     "output_type": "execute_result"
    }
   ],
   "source": [
    "print_hello(\"World!\").get_params()"
   ]
  },
  {
   "cell_type": "code",
   "execution_count": 5,
   "id": "7645ad40-77b7-475a-aa71-2c63552ef12b",
   "metadata": {},
   "outputs": [
    {
     "data": {
      "text/plain": [
       "print_hello.__octoflow__.FunctionTask(name='World')"
      ]
     },
     "execution_count": 5,
     "metadata": {},
     "output_type": "execute_result"
    }
   ],
   "source": [
    "print_hello(name=\"World\").copy()"
   ]
  },
  {
   "cell_type": "code",
   "execution_count": 6,
   "id": "7a425db7-fd29-42bf-a386-344264e08774",
   "metadata": {},
   "outputs": [],
   "source": [
    "pipe = Pipeline([print_hello(\"World!\")])"
   ]
  },
  {
   "cell_type": "code",
   "execution_count": 7,
   "id": "86f4115a-4ee2-41ac-885a-bc15ed335d80",
   "metadata": {},
   "outputs": [
    {
     "data": {
      "text/plain": [
       "{'@type': 'octoflow.pipeline.pipeline:Pipeline',\n",
       " 'tasks': [{'@type': '__main__:print_hello.__octoflow__.FunctionTask',\n",
       "   'name': 'World!'}]}"
      ]
     },
     "execution_count": 7,
     "metadata": {},
     "output_type": "execute_result"
    }
   ],
   "source": [
    "params = pipe.get_params()\n",
    "\n",
    "params"
   ]
  },
  {
   "cell_type": "code",
   "execution_count": 8,
   "id": "c9524d62-b3f7-4fc3-9694-21865709e435",
   "metadata": {},
   "outputs": [
    {
     "data": {
      "text/plain": [
       "Pipeline(tasks=[print_hello.__octoflow__.FunctionTask(name='World!')])"
      ]
     },
     "execution_count": 8,
     "metadata": {},
     "output_type": "execute_result"
    }
   ],
   "source": [
    "pipe.copy()"
   ]
  },
  {
   "cell_type": "code",
   "execution_count": 9,
   "id": "5ca7dbe3-6c6c-4b31-862a-31c86b58a04c",
   "metadata": {},
   "outputs": [
    {
     "name": "stdout",
     "output_type": "stream",
     "text": [
      "Hello World!!\n"
     ]
    }
   ],
   "source": [
    "pipe.run()"
   ]
  },
  {
   "cell_type": "code",
   "execution_count": 10,
   "id": "1b103cea-6b89-4c23-9e3c-61dd617faf7f",
   "metadata": {},
   "outputs": [],
   "source": [
    "pipe = Pipeline()"
   ]
  },
  {
   "cell_type": "code",
   "execution_count": 11,
   "id": "f27cc0d0-451f-4898-afa1-181def9a1f03",
   "metadata": {},
   "outputs": [],
   "source": [
    "step = print_hello(\"World!\")\n",
    "\n",
    "pipe.add_step(step)"
   ]
  },
  {
   "cell_type": "code",
   "execution_count": 12,
   "id": "b5ec870a-c833-4e82-aa60-f4b8f5781378",
   "metadata": {},
   "outputs": [
    {
     "data": {
      "text/plain": [
       "{'@type': 'octoflow.pipeline.pipeline:Pipeline',\n",
       " 'tasks': [{'@type': '__main__:print_hello.__octoflow__.FunctionTask',\n",
       "   'name': 'World!'}]}"
      ]
     },
     "execution_count": 12,
     "metadata": {},
     "output_type": "execute_result"
    }
   ],
   "source": [
    "pipe.get_params()"
   ]
  },
  {
   "cell_type": "code",
   "execution_count": 13,
   "id": "b96d7352-4405-4f2a-be81-cb532cdf9557",
   "metadata": {},
   "outputs": [
    {
     "name": "stdout",
     "output_type": "stream",
     "text": [
      "Hello World!!\n"
     ]
    }
   ],
   "source": [
    "pipe.run()"
   ]
  },
  {
   "cell_type": "code",
   "execution_count": 14,
   "id": "432ae6db-4267-4747-b911-1d1876b8e0c2",
   "metadata": {},
   "outputs": [],
   "source": [
    "def print_hello_2(name: str):\n",
    "    print(f\"Hello {name}!\")\n",
    "\n",
    "Task2 = task(print_hello_2)"
   ]
  },
  {
   "cell_type": "code",
   "execution_count": 15,
   "id": "dbb20289-d28d-47d0-bd82-f9b7472231d2",
   "metadata": {},
   "outputs": [
    {
     "data": {
      "text/plain": [
       "{'@type': '__main__:print_hello_2.__octoflow__.FunctionTask', 'name': 'Hello'}"
      ]
     },
     "execution_count": 15,
     "metadata": {},
     "output_type": "execute_result"
    }
   ],
   "source": [
    "Task2(\"Hello\").get_params()"
   ]
  },
  {
   "cell_type": "code",
   "execution_count": null,
   "id": "656a57b6-3c28-4366-afd1-729e04e9a813",
   "metadata": {},
   "outputs": [],
   "source": []
  }
 ],
 "metadata": {
  "kernelspec": {
   "display_name": "Python 3 (ipykernel)",
   "language": "python",
   "name": "python3"
  },
  "language_info": {
   "codemirror_mode": {
    "name": "ipython",
    "version": 3
   },
   "file_extension": ".py",
   "mimetype": "text/x-python",
   "name": "python",
   "nbconvert_exporter": "python",
   "pygments_lexer": "ipython3",
   "version": "3.11.5"
  }
 },
 "nbformat": 4,
 "nbformat_minor": 5
}
