{
 "cells": [
  {
   "cell_type": "code",
   "execution_count": 1,
   "id": "cd468685-8b2f-4eb2-92f8-7975100f47cc",
   "metadata": {},
   "outputs": [],
   "source": [
    "import pandas as pd\n",
    "\n",
    "from octoflow.tracking.models import Experiment"
   ]
  },
  {
   "cell_type": "code",
   "execution_count": 5,
   "id": "0c722c2c-9311-4ed8-bc6b-a557a1fad246",
   "metadata": {},
   "outputs": [],
   "source": [
    "expr = Experiment(\"./logs\", name=\"sentiment-classification\")"
   ]
  },
  {
   "cell_type": "code",
   "execution_count": 6,
   "id": "60c0e45e-612b-48eb-a5b2-334892c2d175",
   "metadata": {},
   "outputs": [
    {
     "data": {
      "text/plain": [
       "[]"
      ]
     },
     "execution_count": 6,
     "metadata": {},
     "output_type": "execute_result"
    }
   ],
   "source": [
    "expr.cleanup(\"sample_run\")"
   ]
  },
  {
   "cell_type": "code",
   "execution_count": 4,
   "id": "4d193627-caab-40c0-9e88-85b0d6b2967e",
   "metadata": {},
   "outputs": [],
   "source": [
    "run = expr.start_run(\"sample_run\")"
   ]
  },
  {
   "cell_type": "code",
   "execution_count": 5,
   "id": "c4032834-b99f-4aa2-9052-a18601e544bb",
   "metadata": {},
   "outputs": [],
   "source": [
    "run.state = \"running\""
   ]
  },
  {
   "cell_type": "code",
   "execution_count": 6,
   "id": "2ad00b4c-83e5-409e-94a5-8027b9d5bd4e",
   "metadata": {},
   "outputs": [
    {
     "data": {
      "text/plain": [
       "57"
      ]
     },
     "execution_count": 6,
     "metadata": {},
     "output_type": "execute_result"
    }
   ],
   "source": [
    "run.log_param(\"dataset_path.@args\", [\"some/path/here\"])\n",
    "\n",
    "for epoch in range(5):\n",
    "    epoch_step_id = run.log_param(\"train.epoch\", epoch)\n",
    "    for batch in range(2):\n",
    "        batch_step_id = run.log_param(\"train.batch\", batch, step=epoch_step_id)\n",
    "        run.log_metric(\"train.loss\", 0.344 * (batch + 1), step=batch_step_id)\n",
    "        run.log_metric(\"train.acc\", 0.1 * (batch + 1), step=batch_step_id)\n",
    "    run.log_metric(\"train.acc\", 0.344, step=epoch_step_id)\n",
    "    run.log_metrics({\n",
    "        \"train\": {\n",
    "            \"precision\": 0.53,\n",
    "            \"recall\": 0.44,\n",
    "            \"f1_score\": 0.4,\n",
    "        }\n",
    "    }, step=epoch_step_id)\n",
    "\n",
    "run.log_metric(\"valid.f1_sore\", 0.5)"
   ]
  },
  {
   "cell_type": "code",
   "execution_count": 7,
   "id": "4c3d5a88-b923-402f-a320-ec770c22b58e",
   "metadata": {},
   "outputs": [],
   "source": [
    "run.log_artifact(\"test_results\", {\"f1_score\": 0.55})"
   ]
  },
  {
   "cell_type": "code",
   "execution_count": 8,
   "id": "ccd1bc23-5213-4077-b8fe-a9ae42ae36c4",
   "metadata": {},
   "outputs": [
    {
     "data": {
      "text/plain": [
       "{'f1_score': 0.55}"
      ]
     },
     "execution_count": 8,
     "metadata": {},
     "output_type": "execute_result"
    }
   ],
   "source": [
    "run.get_artifact(\"test_results\")"
   ]
  },
  {
   "cell_type": "code",
   "execution_count": 9,
   "id": "49498e63-2e9a-4af9-86e2-18240ea38941",
   "metadata": {},
   "outputs": [],
   "source": [
    "run.log_artifact(\"test_results_df\", pd.DataFrame({\"f1_score\": [0.56]}))"
   ]
  },
  {
   "cell_type": "code",
   "execution_count": 10,
   "id": "20336347-088a-4644-8dbb-c2c23e3852a4",
   "metadata": {},
   "outputs": [
    {
     "data": {
      "text/html": [
       "<div>\n",
       "<style scoped>\n",
       "    .dataframe tbody tr th:only-of-type {\n",
       "        vertical-align: middle;\n",
       "    }\n",
       "\n",
       "    .dataframe tbody tr th {\n",
       "        vertical-align: top;\n",
       "    }\n",
       "\n",
       "    .dataframe thead th {\n",
       "        text-align: right;\n",
       "    }\n",
       "</style>\n",
       "<table border=\"1\" class=\"dataframe\">\n",
       "  <thead>\n",
       "    <tr style=\"text-align: right;\">\n",
       "      <th></th>\n",
       "      <th>f1_score</th>\n",
       "    </tr>\n",
       "  </thead>\n",
       "  <tbody>\n",
       "    <tr>\n",
       "      <th>0</th>\n",
       "      <td>0.56</td>\n",
       "    </tr>\n",
       "  </tbody>\n",
       "</table>\n",
       "</div>"
      ],
      "text/plain": [
       "   f1_score\n",
       "0      0.56"
      ]
     },
     "execution_count": 10,
     "metadata": {},
     "output_type": "execute_result"
    }
   ],
   "source": [
    "test_results_df = run.get_artifact(\"test_results_df\")\n",
    "\n",
    "test_results_df"
   ]
  },
  {
   "cell_type": "code",
   "execution_count": 11,
   "id": "50948e07-e204-4ab3-9bfd-fbc3a1b1063f",
   "metadata": {},
   "outputs": [
    {
     "data": {
      "text/plain": [
       "['some/path/here']"
      ]
     },
     "execution_count": 11,
     "metadata": {},
     "output_type": "execute_result"
    }
   ],
   "source": [
    "values = run.get_values()\n",
    "\n",
    "values[\"dataset_path.@args\"].iloc[0]"
   ]
  },
  {
   "cell_type": "code",
   "execution_count": 20,
   "id": "53fa243e-a402-45ac-9e1b-c83968a85c98",
   "metadata": {},
   "outputs": [
    {
     "data": {
      "text/plain": [
       "numpy.float64"
      ]
     },
     "execution_count": 20,
     "metadata": {},
     "output_type": "execute_result"
    }
   ],
   "source": [
    "values = run.get_values(\"valid\\\\.f1_sore\")\n",
    "\n",
    "type(values.iloc[0, 0])"
   ]
  },
  {
   "cell_type": "code",
   "execution_count": 13,
   "id": "237d50b8-2f16-4e64-a218-75efcab7fe63",
   "metadata": {},
   "outputs": [
    {
     "data": {
      "text/html": [
       "<div>\n",
       "<style scoped>\n",
       "    .dataframe tbody tr th:only-of-type {\n",
       "        vertical-align: middle;\n",
       "    }\n",
       "\n",
       "    .dataframe tbody tr th {\n",
       "        vertical-align: top;\n",
       "    }\n",
       "\n",
       "    .dataframe thead th {\n",
       "        text-align: right;\n",
       "    }\n",
       "</style>\n",
       "<table border=\"1\" class=\"dataframe\">\n",
       "  <thead>\n",
       "    <tr style=\"text-align: right;\">\n",
       "      <th></th>\n",
       "      <th>train.epoch</th>\n",
       "    </tr>\n",
       "  </thead>\n",
       "  <tbody>\n",
       "    <tr>\n",
       "      <th>0</th>\n",
       "      <td>{0: {'train.batch': {0: {'train.loss': 0.344, ...</td>\n",
       "    </tr>\n",
       "  </tbody>\n",
       "</table>\n",
       "</div>"
      ],
      "text/plain": [
       "                                         train.epoch\n",
       "0  {0: {'train.batch': {0: {'train.loss': 0.344, ..."
      ]
     },
     "execution_count": 13,
     "metadata": {},
     "output_type": "execute_result"
    }
   ],
   "source": [
    "values = run.get_values(\"train\\\\.epoch\")\n",
    "\n",
    "values"
   ]
  },
  {
   "cell_type": "code",
   "execution_count": 14,
   "id": "45da6a49-c0f4-46e0-b86c-05c2bbc9905b",
   "metadata": {},
   "outputs": [
    {
     "data": {
      "text/html": [
       "<div>\n",
       "<style scoped>\n",
       "    .dataframe tbody tr th:only-of-type {\n",
       "        vertical-align: middle;\n",
       "    }\n",
       "\n",
       "    .dataframe tbody tr th {\n",
       "        vertical-align: top;\n",
       "    }\n",
       "\n",
       "    .dataframe thead th {\n",
       "        text-align: right;\n",
       "    }\n",
       "</style>\n",
       "<table border=\"1\" class=\"dataframe\">\n",
       "  <thead>\n",
       "    <tr style=\"text-align: right;\">\n",
       "      <th></th>\n",
       "      <th>train.batch</th>\n",
       "      <th>train.epoch</th>\n",
       "    </tr>\n",
       "  </thead>\n",
       "  <tbody>\n",
       "    <tr>\n",
       "      <th>0</th>\n",
       "      <td>{0: {'train.loss': 0.344, 'train.acc': 0.1}, 1...</td>\n",
       "      <td>0</td>\n",
       "    </tr>\n",
       "    <tr>\n",
       "      <th>1</th>\n",
       "      <td>{0: {'train.loss': 0.344, 'train.acc': 0.1}, 1...</td>\n",
       "      <td>1</td>\n",
       "    </tr>\n",
       "    <tr>\n",
       "      <th>2</th>\n",
       "      <td>{0: {'train.loss': 0.344, 'train.acc': 0.1}, 1...</td>\n",
       "      <td>2</td>\n",
       "    </tr>\n",
       "    <tr>\n",
       "      <th>3</th>\n",
       "      <td>{0: {'train.loss': 0.344, 'train.acc': 0.1}, 1...</td>\n",
       "      <td>3</td>\n",
       "    </tr>\n",
       "    <tr>\n",
       "      <th>4</th>\n",
       "      <td>{0: {'train.loss': 0.344, 'train.acc': 0.1}, 1...</td>\n",
       "      <td>4</td>\n",
       "    </tr>\n",
       "  </tbody>\n",
       "</table>\n",
       "</div>"
      ],
      "text/plain": [
       "                                         train.batch  train.epoch\n",
       "0  {0: {'train.loss': 0.344, 'train.acc': 0.1}, 1...            0\n",
       "1  {0: {'train.loss': 0.344, 'train.acc': 0.1}, 1...            1\n",
       "2  {0: {'train.loss': 0.344, 'train.acc': 0.1}, 1...            2\n",
       "3  {0: {'train.loss': 0.344, 'train.acc': 0.1}, 1...            3\n",
       "4  {0: {'train.loss': 0.344, 'train.acc': 0.1}, 1...            4"
      ]
     },
     "execution_count": 14,
     "metadata": {},
     "output_type": "execute_result"
    }
   ],
   "source": [
    "values = run.get_values(\"train\\\\.epoch.train\\\\.batch\")\n",
    "\n",
    "values"
   ]
  },
  {
   "cell_type": "code",
   "execution_count": 15,
   "id": "9d096cc1-20e9-49ad-a6f4-59c9494f48d4",
   "metadata": {},
   "outputs": [
    {
     "data": {
      "text/html": [
       "<div>\n",
       "<style scoped>\n",
       "    .dataframe tbody tr th:only-of-type {\n",
       "        vertical-align: middle;\n",
       "    }\n",
       "\n",
       "    .dataframe tbody tr th {\n",
       "        vertical-align: top;\n",
       "    }\n",
       "\n",
       "    .dataframe thead th {\n",
       "        text-align: right;\n",
       "    }\n",
       "</style>\n",
       "<table border=\"1\" class=\"dataframe\">\n",
       "  <thead>\n",
       "    <tr style=\"text-align: right;\">\n",
       "      <th></th>\n",
       "      <th>train.batch</th>\n",
       "      <th>train.epoch</th>\n",
       "    </tr>\n",
       "  </thead>\n",
       "  <tbody>\n",
       "    <tr>\n",
       "      <th>0</th>\n",
       "      <td>{0: {'train.loss': 0.344, 'train.acc': 0.1}, 1...</td>\n",
       "      <td>0</td>\n",
       "    </tr>\n",
       "    <tr>\n",
       "      <th>1</th>\n",
       "      <td>{0: {'train.loss': 0.344, 'train.acc': 0.1}, 1...</td>\n",
       "      <td>1</td>\n",
       "    </tr>\n",
       "    <tr>\n",
       "      <th>2</th>\n",
       "      <td>{0: {'train.loss': 0.344, 'train.acc': 0.1}, 1...</td>\n",
       "      <td>2</td>\n",
       "    </tr>\n",
       "    <tr>\n",
       "      <th>3</th>\n",
       "      <td>{0: {'train.loss': 0.344, 'train.acc': 0.1}, 1...</td>\n",
       "      <td>3</td>\n",
       "    </tr>\n",
       "    <tr>\n",
       "      <th>4</th>\n",
       "      <td>{0: {'train.loss': 0.344, 'train.acc': 0.1}, 1...</td>\n",
       "      <td>4</td>\n",
       "    </tr>\n",
       "  </tbody>\n",
       "</table>\n",
       "</div>"
      ],
      "text/plain": [
       "                                         train.batch  train.epoch\n",
       "0  {0: {'train.loss': 0.344, 'train.acc': 0.1}, 1...            0\n",
       "1  {0: {'train.loss': 0.344, 'train.acc': 0.1}, 1...            1\n",
       "2  {0: {'train.loss': 0.344, 'train.acc': 0.1}, 1...            2\n",
       "3  {0: {'train.loss': 0.344, 'train.acc': 0.1}, 1...            3\n",
       "4  {0: {'train.loss': 0.344, 'train.acc': 0.1}, 1...            4"
      ]
     },
     "execution_count": 15,
     "metadata": {},
     "output_type": "execute_result"
    }
   ],
   "source": [
    "values = run.get_values((\"train.epoch\", \"train.batch\"))\n",
    "\n",
    "values"
   ]
  },
  {
   "cell_type": "code",
   "execution_count": 16,
   "id": "4ecf8985-dc23-454e-82ee-03a34459b51e",
   "metadata": {},
   "outputs": [
    {
     "data": {
      "text/html": [
       "<div>\n",
       "<style scoped>\n",
       "    .dataframe tbody tr th:only-of-type {\n",
       "        vertical-align: middle;\n",
       "    }\n",
       "\n",
       "    .dataframe tbody tr th {\n",
       "        vertical-align: top;\n",
       "    }\n",
       "\n",
       "    .dataframe thead th {\n",
       "        text-align: right;\n",
       "    }\n",
       "</style>\n",
       "<table border=\"1\" class=\"dataframe\">\n",
       "  <thead>\n",
       "    <tr style=\"text-align: right;\">\n",
       "      <th></th>\n",
       "      <th>train.precision</th>\n",
       "      <th>train.epoch</th>\n",
       "    </tr>\n",
       "  </thead>\n",
       "  <tbody>\n",
       "    <tr>\n",
       "      <th>0</th>\n",
       "      <td>0.53</td>\n",
       "      <td>0</td>\n",
       "    </tr>\n",
       "    <tr>\n",
       "      <th>1</th>\n",
       "      <td>0.53</td>\n",
       "      <td>1</td>\n",
       "    </tr>\n",
       "    <tr>\n",
       "      <th>2</th>\n",
       "      <td>0.53</td>\n",
       "      <td>2</td>\n",
       "    </tr>\n",
       "    <tr>\n",
       "      <th>3</th>\n",
       "      <td>0.53</td>\n",
       "      <td>3</td>\n",
       "    </tr>\n",
       "    <tr>\n",
       "      <th>4</th>\n",
       "      <td>0.53</td>\n",
       "      <td>4</td>\n",
       "    </tr>\n",
       "  </tbody>\n",
       "</table>\n",
       "</div>"
      ],
      "text/plain": [
       "   train.precision  train.epoch\n",
       "0             0.53            0\n",
       "1             0.53            1\n",
       "2             0.53            2\n",
       "3             0.53            3\n",
       "4             0.53            4"
      ]
     },
     "execution_count": 16,
     "metadata": {},
     "output_type": "execute_result"
    }
   ],
   "source": [
    "values = run.get_values(\"train\\\\.epoch.train\\\\.precision\")\n",
    "\n",
    "values"
   ]
  },
  {
   "cell_type": "code",
   "execution_count": 17,
   "id": "f67ce4cc-1d7f-4f2a-8066-aa05bad1ac7d",
   "metadata": {},
   "outputs": [
    {
     "data": {
      "text/html": [
       "<div>\n",
       "<style scoped>\n",
       "    .dataframe tbody tr th:only-of-type {\n",
       "        vertical-align: middle;\n",
       "    }\n",
       "\n",
       "    .dataframe tbody tr th {\n",
       "        vertical-align: top;\n",
       "    }\n",
       "\n",
       "    .dataframe thead th {\n",
       "        text-align: right;\n",
       "    }\n",
       "</style>\n",
       "<table border=\"1\" class=\"dataframe\">\n",
       "  <thead>\n",
       "    <tr style=\"text-align: right;\">\n",
       "      <th></th>\n",
       "      <th>train.loss</th>\n",
       "      <th>train.batch</th>\n",
       "      <th>train.epoch</th>\n",
       "    </tr>\n",
       "  </thead>\n",
       "  <tbody>\n",
       "    <tr>\n",
       "      <th>0</th>\n",
       "      <td>0.344</td>\n",
       "      <td>0</td>\n",
       "      <td>0</td>\n",
       "    </tr>\n",
       "    <tr>\n",
       "      <th>1</th>\n",
       "      <td>0.688</td>\n",
       "      <td>1</td>\n",
       "      <td>0</td>\n",
       "    </tr>\n",
       "    <tr>\n",
       "      <th>2</th>\n",
       "      <td>0.344</td>\n",
       "      <td>0</td>\n",
       "      <td>1</td>\n",
       "    </tr>\n",
       "    <tr>\n",
       "      <th>3</th>\n",
       "      <td>0.688</td>\n",
       "      <td>1</td>\n",
       "      <td>1</td>\n",
       "    </tr>\n",
       "    <tr>\n",
       "      <th>4</th>\n",
       "      <td>0.344</td>\n",
       "      <td>0</td>\n",
       "      <td>2</td>\n",
       "    </tr>\n",
       "    <tr>\n",
       "      <th>5</th>\n",
       "      <td>0.688</td>\n",
       "      <td>1</td>\n",
       "      <td>2</td>\n",
       "    </tr>\n",
       "    <tr>\n",
       "      <th>6</th>\n",
       "      <td>0.344</td>\n",
       "      <td>0</td>\n",
       "      <td>3</td>\n",
       "    </tr>\n",
       "    <tr>\n",
       "      <th>7</th>\n",
       "      <td>0.688</td>\n",
       "      <td>1</td>\n",
       "      <td>3</td>\n",
       "    </tr>\n",
       "    <tr>\n",
       "      <th>8</th>\n",
       "      <td>0.344</td>\n",
       "      <td>0</td>\n",
       "      <td>4</td>\n",
       "    </tr>\n",
       "    <tr>\n",
       "      <th>9</th>\n",
       "      <td>0.688</td>\n",
       "      <td>1</td>\n",
       "      <td>4</td>\n",
       "    </tr>\n",
       "  </tbody>\n",
       "</table>\n",
       "</div>"
      ],
      "text/plain": [
       "   train.loss  train.batch  train.epoch\n",
       "0       0.344            0            0\n",
       "1       0.688            1            0\n",
       "2       0.344            0            1\n",
       "3       0.688            1            1\n",
       "4       0.344            0            2\n",
       "5       0.688            1            2\n",
       "6       0.344            0            3\n",
       "7       0.688            1            3\n",
       "8       0.344            0            4\n",
       "9       0.688            1            4"
      ]
     },
     "execution_count": 17,
     "metadata": {},
     "output_type": "execute_result"
    }
   ],
   "source": [
    "values = run.get_values(\"train\\\\.epoch.train\\\\.batch.train\\\\.loss\")\n",
    "\n",
    "values"
   ]
  },
  {
   "cell_type": "code",
   "execution_count": 18,
   "id": "68995711-664d-4124-8709-fcb506fb72d3",
   "metadata": {},
   "outputs": [
    {
     "data": {
      "text/html": [
       "<div>\n",
       "<style scoped>\n",
       "    .dataframe tbody tr th:only-of-type {\n",
       "        vertical-align: middle;\n",
       "    }\n",
       "\n",
       "    .dataframe tbody tr th {\n",
       "        vertical-align: top;\n",
       "    }\n",
       "\n",
       "    .dataframe thead th {\n",
       "        text-align: right;\n",
       "    }\n",
       "</style>\n",
       "<table border=\"1\" class=\"dataframe\">\n",
       "  <thead>\n",
       "    <tr style=\"text-align: right;\">\n",
       "      <th></th>\n",
       "      <th>train.acc</th>\n",
       "      <th>train.batch</th>\n",
       "      <th>train.epoch</th>\n",
       "    </tr>\n",
       "  </thead>\n",
       "  <tbody>\n",
       "    <tr>\n",
       "      <th>0</th>\n",
       "      <td>0.1</td>\n",
       "      <td>0</td>\n",
       "      <td>0</td>\n",
       "    </tr>\n",
       "    <tr>\n",
       "      <th>1</th>\n",
       "      <td>0.2</td>\n",
       "      <td>1</td>\n",
       "      <td>0</td>\n",
       "    </tr>\n",
       "    <tr>\n",
       "      <th>2</th>\n",
       "      <td>0.1</td>\n",
       "      <td>0</td>\n",
       "      <td>1</td>\n",
       "    </tr>\n",
       "    <tr>\n",
       "      <th>3</th>\n",
       "      <td>0.2</td>\n",
       "      <td>1</td>\n",
       "      <td>1</td>\n",
       "    </tr>\n",
       "    <tr>\n",
       "      <th>4</th>\n",
       "      <td>0.1</td>\n",
       "      <td>0</td>\n",
       "      <td>2</td>\n",
       "    </tr>\n",
       "    <tr>\n",
       "      <th>5</th>\n",
       "      <td>0.2</td>\n",
       "      <td>1</td>\n",
       "      <td>2</td>\n",
       "    </tr>\n",
       "    <tr>\n",
       "      <th>6</th>\n",
       "      <td>0.1</td>\n",
       "      <td>0</td>\n",
       "      <td>3</td>\n",
       "    </tr>\n",
       "    <tr>\n",
       "      <th>7</th>\n",
       "      <td>0.2</td>\n",
       "      <td>1</td>\n",
       "      <td>3</td>\n",
       "    </tr>\n",
       "    <tr>\n",
       "      <th>8</th>\n",
       "      <td>0.1</td>\n",
       "      <td>0</td>\n",
       "      <td>4</td>\n",
       "    </tr>\n",
       "    <tr>\n",
       "      <th>9</th>\n",
       "      <td>0.2</td>\n",
       "      <td>1</td>\n",
       "      <td>4</td>\n",
       "    </tr>\n",
       "  </tbody>\n",
       "</table>\n",
       "</div>"
      ],
      "text/plain": [
       "   train.acc  train.batch  train.epoch\n",
       "0        0.1            0            0\n",
       "1        0.2            1            0\n",
       "2        0.1            0            1\n",
       "3        0.2            1            1\n",
       "4        0.1            0            2\n",
       "5        0.2            1            2\n",
       "6        0.1            0            3\n",
       "7        0.2            1            3\n",
       "8        0.1            0            4\n",
       "9        0.2            1            4"
      ]
     },
     "execution_count": 18,
     "metadata": {},
     "output_type": "execute_result"
    }
   ],
   "source": [
    "values = run.get_values(\"train\\\\.epoch.train\\\\.batch.train\\\\.acc\")\n",
    "\n",
    "values"
   ]
  },
  {
   "cell_type": "code",
   "execution_count": null,
   "id": "2d185f8c-11a0-4863-bdae-ec2d62ed8706",
   "metadata": {},
   "outputs": [],
   "source": []
  }
 ],
 "metadata": {
  "kernelspec": {
   "display_name": "Python 3 (ipykernel)",
   "language": "python",
   "name": "python3"
  },
  "language_info": {
   "codemirror_mode": {
    "name": "ipython",
    "version": 3
   },
   "file_extension": ".py",
   "mimetype": "text/x-python",
   "name": "python",
   "nbconvert_exporter": "python",
   "pygments_lexer": "ipython3",
   "version": "3.11.5"
  }
 },
 "nbformat": 4,
 "nbformat_minor": 5
}
